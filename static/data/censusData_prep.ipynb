{
 "cells": [
  {
   "cell_type": "code",
   "execution_count": 18,
   "metadata": {},
   "outputs": [],
   "source": [
    "import pandas as pd\n",
    "import os\n",
    "import json\n",
    "import numpy as np\n"
   ]
  },
  {
   "cell_type": "code",
   "execution_count": 19,
   "metadata": {},
   "outputs": [],
   "source": [
    "geodata_file = open('tractData.geojson')\n",
    "geodata_str = geodata_file.read()\n",
    "geo_data = json.loads(geodata_str)\n"
   ]
  },
  {
   "cell_type": "code",
   "execution_count": 20,
   "metadata": {},
   "outputs": [],
   "source": [
    "# geo_data = pd.read_json(geodata_file)\n",
    "\n",
    "# geo_data[\"features\"][10][\"properties\"][\"AFFGEOID\"]\n",
    "# geo_data[\"features\"][0]['properties']\n",
    "# geo_data"
   ]
  },
  {
   "cell_type": "code",
   "execution_count": 21,
   "metadata": {},
   "outputs": [
    {
     "data": {
      "text/html": [
       "<div>\n",
       "<style scoped>\n",
       "    .dataframe tbody tr th:only-of-type {\n",
       "        vertical-align: middle;\n",
       "    }\n",
       "\n",
       "    .dataframe tbody tr th {\n",
       "        vertical-align: top;\n",
       "    }\n",
       "\n",
       "    .dataframe thead th {\n",
       "        text-align: right;\n",
       "    }\n",
       "</style>\n",
       "<table border=\"1\" class=\"dataframe\">\n",
       "  <thead>\n",
       "    <tr style=\"text-align: right;\">\n",
       "      <th></th>\n",
       "      <th>GEO_ID</th>\n",
       "      <th>TRACT_NAME</th>\n",
       "      <th>LESS_NINTH</th>\n",
       "      <th>LESS_HS</th>\n",
       "    </tr>\n",
       "  </thead>\n",
       "  <tbody>\n",
       "    <tr>\n",
       "      <th>0</th>\n",
       "      <td>1400000US06067000100</td>\n",
       "      <td>Census Tract 1, Sacramento County, California</td>\n",
       "      <td>0.6</td>\n",
       "      <td>1</td>\n",
       "    </tr>\n",
       "    <tr>\n",
       "      <th>1</th>\n",
       "      <td>1400000US06067000200</td>\n",
       "      <td>Census Tract 2, Sacramento County, California</td>\n",
       "      <td>0.9</td>\n",
       "      <td>0.7</td>\n",
       "    </tr>\n",
       "    <tr>\n",
       "      <th>2</th>\n",
       "      <td>1400000US06067000300</td>\n",
       "      <td>Census Tract 3, Sacramento County, California</td>\n",
       "      <td>0.9</td>\n",
       "      <td>0.3</td>\n",
       "    </tr>\n",
       "    <tr>\n",
       "      <th>3</th>\n",
       "      <td>1400000US06067000400</td>\n",
       "      <td>Census Tract 4, Sacramento County, California</td>\n",
       "      <td>1.6</td>\n",
       "      <td>3.1</td>\n",
       "    </tr>\n",
       "    <tr>\n",
       "      <th>4</th>\n",
       "      <td>1400000US06067000500</td>\n",
       "      <td>Census Tract 5, Sacramento County, California</td>\n",
       "      <td>5.1</td>\n",
       "      <td>4.3</td>\n",
       "    </tr>\n",
       "  </tbody>\n",
       "</table>\n",
       "</div>"
      ],
      "text/plain": [
       "                 GEO_ID                                     TRACT_NAME  \\\n",
       "0  1400000US06067000100  Census Tract 1, Sacramento County, California   \n",
       "1  1400000US06067000200  Census Tract 2, Sacramento County, California   \n",
       "2  1400000US06067000300  Census Tract 3, Sacramento County, California   \n",
       "3  1400000US06067000400  Census Tract 4, Sacramento County, California   \n",
       "4  1400000US06067000500  Census Tract 5, Sacramento County, California   \n",
       "\n",
       "  LESS_NINTH LESS_HS  \n",
       "0        0.6       1  \n",
       "1        0.9     0.7  \n",
       "2        0.9     0.3  \n",
       "3        1.6     3.1  \n",
       "4        5.1     4.3  "
      ]
     },
     "execution_count": 21,
     "metadata": {},
     "output_type": "execute_result"
    }
   ],
   "source": [
    "# Read in csv file with population characteristic data by Sacramento County census tract\n",
    "sac_data_file = 'sacRegionData.csv'\n",
    "sac_data = pd.read_csv(sac_data_file).dropna()\n",
    "sac_data.fillna(.0001)\n",
    "sac_data.columns = ['GEO_ID', 'TRACT_NAME', 'LESS_NINTH', 'LESS_HS'] \n",
    "len(sac_data)\n",
    "sac_data.head()"
   ]
  },
  {
   "cell_type": "code",
   "execution_count": 28,
   "metadata": {},
   "outputs": [],
   "source": [
    "# This code loops through the geo json data and csv data;\n",
    "# first checks for county code value, then adds new feature/\n",
    "# properties if don't already exist\n",
    "\n",
    "for x in range(len(geo_data[\"features\"])):\n",
    "    countyFP = geo_data[\"features\"][x][\"properties\"][\"COUNTYFP\"]\n",
    "    if(countyFP != \"115\"):\n",
    "        continue\n",
    "\n",
    "    geo_id = geo_data[\"features\"][x][\"properties\"][\"AFFGEOID\"]\n",
    "    for index, row in sac_data.iterrows():\n",
    "        geo_df = row['GEO_ID']\n",
    "        geo_NAME = row['TRACT_NAME']\n",
    "        geo_S1501_C02_008E = row['LESS_NINTH']\n",
    "        geo_S1501_C02_007E = row['LESS_HS']\n",
    "        if(geo_id == geo_df):\n",
    "            geo_data[\"features\"][x][\"properties\"][\"TRACT_NAME\"] = geo_NAME\n",
    "            geo_data[\"features\"][x][\"properties\"][\"LESS_NINTH\"] = geo_S1501_C02_008E\n",
    "            geo_data[\"features\"][x][\"properties\"][\"LESS_HS\"] = geo_S1501_C02_007E"
   ]
  },
  {
   "cell_type": "code",
   "execution_count": 29,
   "metadata": {},
   "outputs": [
    {
     "data": {
      "text/plain": [
       "13327261"
      ]
     },
     "execution_count": 29,
     "metadata": {},
     "output_type": "execute_result"
    }
   ],
   "source": [
    "# dump JSON object with new properties into new JSON \n",
    "sac_dumps = json.dumps(geo_data)\n",
    "open(\"sac2.json\",\"w\").write(sac_dumps)"
   ]
  },
  {
   "cell_type": "code",
   "execution_count": null,
   "metadata": {},
   "outputs": [],
   "source": [
    "\n"
   ]
  },
  {
   "cell_type": "code",
   "execution_count": null,
   "metadata": {},
   "outputs": [],
   "source": []
  }
 ],
 "metadata": {
  "kernelspec": {
   "display_name": "Python 3",
   "language": "python",
   "name": "python3"
  },
  "language_info": {
   "codemirror_mode": {
    "name": "ipython",
    "version": 3
   },
   "file_extension": ".py",
   "mimetype": "text/x-python",
   "name": "python",
   "nbconvert_exporter": "python",
   "pygments_lexer": "ipython3",
   "version": "3.6.8"
  }
 },
 "nbformat": 4,
 "nbformat_minor": 2
}
